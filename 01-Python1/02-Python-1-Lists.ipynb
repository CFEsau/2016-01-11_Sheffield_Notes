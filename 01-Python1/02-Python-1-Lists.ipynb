{
 "nbformat_minor": 0,
 "nbformat": 4,
 "cells": [
  {
   "source": [
    "# Storing Multiple Values in Lists\n",
    "\n",
    "<br/>\n",
    "<section class=\"objectives panel panel-warning\">\n",
    "<div class=\"panel-heading\">\n",
    "<h2><span class=\"fa fa-certificate\"></span> Learning Objectives </h2>\n",
    "</div>\n",
    "<ul>\n",
    "<li> Explain what a list is </li>\n",
    "<li> Create and index lists of simple values  </li>\n",
    "</ul>\n",
    "</section>\n",
    "\n",
    "Just as a 'for' loop is a way to do operations many times, a list is a way to store many values. Unlike NumPy arrays, lists are built into the language (so we don\u2019t have to load a library to use them). We create a list by putting values inside square brackets:"
   ],
   "cell_type": "markdown",
   "metadata": {}
  },
  {
   "execution_count": null,
   "cell_type": "code",
   "source": [],
   "outputs": [],
   "metadata": {
    "collapsed": true
   }
  },
  {
   "source": [
    "We select individual elements from lists by indexing them:"
   ],
   "cell_type": "markdown",
   "metadata": {}
  },
  {
   "execution_count": null,
   "cell_type": "code",
   "source": [],
   "outputs": [],
   "metadata": {
    "collapsed": true
   }
  },
  {
   "source": [
    "and if we loop over a list, the loop variable is assigned elements one at a time:"
   ],
   "cell_type": "markdown",
   "metadata": {}
  },
  {
   "execution_count": null,
   "cell_type": "code",
   "source": [],
   "outputs": [],
   "metadata": {
    "collapsed": true
   }
  },
  {
   "source": [
    "There is one important difference between lists and strings: we can change the values in a list, but we cannot change the characters in a string. For example:"
   ],
   "cell_type": "markdown",
   "metadata": {}
  },
  {
   "execution_count": null,
   "cell_type": "code",
   "source": [],
   "outputs": [],
   "metadata": {
    "collapsed": true
   }
  },
  {
   "source": [
    "works, but:"
   ],
   "cell_type": "markdown",
   "metadata": {}
  },
  {
   "execution_count": null,
   "cell_type": "code",
   "source": [],
   "outputs": [],
   "metadata": {
    "collapsed": true
   }
  },
  {
   "source": [
    "## Ch-Ch-Ch-Changes\n",
    "\n",
    "\n",
    "Data which can be modified in place is called mutable, while data which cannot be modified is called immutable. Strings and numbers are immutable. This does not mean that variables with string or number values are constants, but when we want to change the value of a string or number variable, we can only replace the old value with a completely new value.\n",
    "\n",
    "Lists and arrays, on the other hand, are mutable: we can modify them after they have been created. We can change individual elements, append new elements, or reorder the whole list. For some operations, like sorting, we can choose whether to use a function that modifies the data in place or a function that returns a modified copy and leaves the original unchanged.\n",
    "\n",
    "Be careful when modifying data in place. If two variables refer to the same list, and you modify the list value, it will change for both variables! If you want variables with mutable values to be independent, you must make a copy of the value when you assign it.\n",
    "\n",
    "Because of pitfalls like this, code which modifies data in place can be more difficult to understand. However, it is often far more efficient to modify a large data structure in place than to create a modified copy for every small change. You should consider both of these aspects when writing your code.\n",
    "\n",
    "There are many ways to change the contents of lists besides assigning new values to individual elements:"
   ],
   "cell_type": "markdown",
   "metadata": {}
  },
  {
   "execution_count": null,
   "cell_type": "code",
   "source": [],
   "outputs": [],
   "metadata": {
    "collapsed": true
   }
  },
  {
   "execution_count": null,
   "cell_type": "code",
   "source": [],
   "outputs": [],
   "metadata": {
    "collapsed": true
   }
  },
  {
   "execution_count": null,
   "cell_type": "code",
   "source": [],
   "outputs": [],
   "metadata": {
    "collapsed": true
   }
  },
  {
   "source": [
    "While modifying in place, it is useful to remember that python treats lists in a slightly counterintuitive way.\n",
    "\n",
    "If we make a list and (attempt to) copy it then modify in place, we can cause all sorts of trouble:"
   ],
   "cell_type": "markdown",
   "metadata": {}
  },
  {
   "execution_count": null,
   "cell_type": "code",
   "source": [],
   "outputs": [],
   "metadata": {
    "collapsed": true
   }
  },
  {
   "source": [
    "This is because python stores a list in memory, and then can use multiple names to refer to the same list. If all we want to do is copy a (simple) list, we can use the list() command, so we do not modify a list we did not mean to:"
   ],
   "cell_type": "markdown",
   "metadata": {}
  },
  {
   "execution_count": null,
   "cell_type": "code",
   "source": [],
   "outputs": [],
   "metadata": {
    "collapsed": true
   }
  },
  {
   "source": [
    "This is different from how variables worked in lesson 1, and more similar to how a spreadsheet works."
   ],
   "cell_type": "markdown",
   "metadata": {}
  },
  {
   "source": [
    "<section class=\"objectives panel panel-success\">\n",
    "<div class=\"panel-heading\">\n",
    "<h2><span class=\"fa fa-pencil\"></span> Turn a string into a list </h2>\n",
    "</div>\n",
    "<br/>\n",
    "Use a for-loop to convert the string `\u201chello\u201d` into a list of letters.\n",
    "<pre>[\"h\", \"e\", \"l\", \"l\", \"o\"]</pre>\n",
    "\n",
    "NB: you can create an empty list using `my_list = []`\n",
    "    \n",
    "</section>\n",
    "\n",
    "<section class=\"objectives panel panel-success\">\n",
    "<div class=\"panel-heading\">\n",
    "<h2><span class=\"fa fa-pencil\"></span> Tuples and Excahnges </h2>\n",
    "</div>\n",
    "<br/>\n",
    "Use a for-loop to convert the string `\u201chello\u201d` into a list of letters.\n",
    "<pre>[\"h\", \"e\", \"l\", \"l\", \"o\"]</pre>\n",
    "\n",
    "Explain what the overall effect of this code is:\n",
    "\n",
    "<pre>\n",
    "left = 'L'\n",
    "right = 'R'\n",
    "\n",
    "temp = left\n",
    "left = right\n",
    "right = temp\n",
    "</pre>\n",
    "<br/>\n",
    "Compare it to:\n",
    "<pre> left, right = right, left </pre>\n",
    "<br/>\n",
    "Do they always do the same thing? Which does your brain scan better?\n",
    "</section>\n"
   ],
   "cell_type": "markdown",
   "metadata": {}
  },
  {
   "source": [],
   "cell_type": "markdown",
   "metadata": {}
  }
 ],
 "metadata": {
  "kernelspec": {
   "display_name": "Python 2",
   "name": "python2",
   "language": "python2"
  },
  "language_info": {
   "mimetype": "text/x-python",
   "nbconvert_exporter": "python",
   "name": "python",
   "file_extension": ".py",
   "version": "2.7.11",
   "pygments_lexer": "ipython2",
   "codemirror_mode": {
    "version": 2,
    "name": "ipython"
   }
  }
 }
}